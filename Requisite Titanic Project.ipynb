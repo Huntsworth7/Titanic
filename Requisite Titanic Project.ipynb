{
 "cells": [
  {
   "cell_type": "markdown",
   "metadata": {},
   "source": [
    "# Titanic"
   ]
  },
  {
   "cell_type": "markdown",
   "metadata": {},
   "source": [
    "I felt as if I couldn't call myself a true Data Scientist without putting together a Titanic dataset project. It's almost become the \"Hello World\" of Data Science but one could argue it has stiff competition with the Iris, Wine, and MNIST datasets.       <br><br>\n",
    "In any case, for those who are somehow unaware: The Titanic is the most famous cruise disaster in world history. On April 15th 1912, the ship struck an iceberg and sank into the ocean. Since the Titanic was thought to be unsinkable, there were only enough lifeboats for a little less than half of the number of people onboard. As you can infer, this led to much tragedy and death.   <br><br>\n",
    "James Cameron's movie about the incident became the highest grossing movie of all time when it came out in 1997. It's worth a watch. It's certainly better than his Avatar movie which for some reason overtook Titanic in total gross several years later. <br><br> Our goal here is simple: construct a model that can predict who lived and who died aboard the Titanic. \n",
    "<br><br>\n",
    "Let's get nerdy. "
   ]
  },
  {
   "cell_type": "code",
   "execution_count": 1,
   "metadata": {},
   "outputs": [],
   "source": [
    "import pandas as pd\n",
    "import matplotlib.pyplot as plt \n",
    "import seaborn as sns\n",
    "import numpy as np\n",
    "#I use a dark background in my jupyter notebooks so I like my visualizations to match. I recommend it if you're feeling adventurous. \n",
    "plt.style.use('dark_background')\n",
    "#Make my visualizations bigger\n",
    "plt.rcParams[\"figure.figsize\"] = (8,6)"
   ]
  },
  {
   "cell_type": "code",
   "execution_count": 2,
   "metadata": {},
   "outputs": [
    {
     "name": "stdout",
     "output_type": "stream",
     "text": [
      "(891, 11)\n"
     ]
    },
    {
     "data": {
      "text/html": [
       "<div>\n",
       "<style scoped>\n",
       "    .dataframe tbody tr th:only-of-type {\n",
       "        vertical-align: middle;\n",
       "    }\n",
       "\n",
       "    .dataframe tbody tr th {\n",
       "        vertical-align: top;\n",
       "    }\n",
       "\n",
       "    .dataframe thead th {\n",
       "        text-align: right;\n",
       "    }\n",
       "</style>\n",
       "<table border=\"1\" class=\"dataframe\">\n",
       "  <thead>\n",
       "    <tr style=\"text-align: right;\">\n",
       "      <th></th>\n",
       "      <th>Survived</th>\n",
       "      <th>Pclass</th>\n",
       "      <th>Name</th>\n",
       "      <th>Sex</th>\n",
       "      <th>Age</th>\n",
       "      <th>SibSp</th>\n",
       "      <th>Parch</th>\n",
       "      <th>Ticket</th>\n",
       "      <th>Fare</th>\n",
       "      <th>Cabin</th>\n",
       "      <th>Embarked</th>\n",
       "    </tr>\n",
       "    <tr>\n",
       "      <th>PassengerId</th>\n",
       "      <th></th>\n",
       "      <th></th>\n",
       "      <th></th>\n",
       "      <th></th>\n",
       "      <th></th>\n",
       "      <th></th>\n",
       "      <th></th>\n",
       "      <th></th>\n",
       "      <th></th>\n",
       "      <th></th>\n",
       "      <th></th>\n",
       "    </tr>\n",
       "  </thead>\n",
       "  <tbody>\n",
       "    <tr>\n",
       "      <th>1</th>\n",
       "      <td>0</td>\n",
       "      <td>3</td>\n",
       "      <td>Braund, Mr. Owen Harris</td>\n",
       "      <td>male</td>\n",
       "      <td>22.0</td>\n",
       "      <td>1</td>\n",
       "      <td>0</td>\n",
       "      <td>A/5 21171</td>\n",
       "      <td>7.2500</td>\n",
       "      <td>NaN</td>\n",
       "      <td>S</td>\n",
       "    </tr>\n",
       "    <tr>\n",
       "      <th>2</th>\n",
       "      <td>1</td>\n",
       "      <td>1</td>\n",
       "      <td>Cumings, Mrs. John Bradley (Florence Briggs Th...</td>\n",
       "      <td>female</td>\n",
       "      <td>38.0</td>\n",
       "      <td>1</td>\n",
       "      <td>0</td>\n",
       "      <td>PC 17599</td>\n",
       "      <td>71.2833</td>\n",
       "      <td>C85</td>\n",
       "      <td>C</td>\n",
       "    </tr>\n",
       "    <tr>\n",
       "      <th>3</th>\n",
       "      <td>1</td>\n",
       "      <td>3</td>\n",
       "      <td>Heikkinen, Miss. Laina</td>\n",
       "      <td>female</td>\n",
       "      <td>26.0</td>\n",
       "      <td>0</td>\n",
       "      <td>0</td>\n",
       "      <td>STON/O2. 3101282</td>\n",
       "      <td>7.9250</td>\n",
       "      <td>NaN</td>\n",
       "      <td>S</td>\n",
       "    </tr>\n",
       "    <tr>\n",
       "      <th>4</th>\n",
       "      <td>1</td>\n",
       "      <td>1</td>\n",
       "      <td>Futrelle, Mrs. Jacques Heath (Lily May Peel)</td>\n",
       "      <td>female</td>\n",
       "      <td>35.0</td>\n",
       "      <td>1</td>\n",
       "      <td>0</td>\n",
       "      <td>113803</td>\n",
       "      <td>53.1000</td>\n",
       "      <td>C123</td>\n",
       "      <td>S</td>\n",
       "    </tr>\n",
       "    <tr>\n",
       "      <th>5</th>\n",
       "      <td>0</td>\n",
       "      <td>3</td>\n",
       "      <td>Allen, Mr. William Henry</td>\n",
       "      <td>male</td>\n",
       "      <td>35.0</td>\n",
       "      <td>0</td>\n",
       "      <td>0</td>\n",
       "      <td>373450</td>\n",
       "      <td>8.0500</td>\n",
       "      <td>NaN</td>\n",
       "      <td>S</td>\n",
       "    </tr>\n",
       "  </tbody>\n",
       "</table>\n",
       "</div>"
      ],
      "text/plain": [
       "             Survived  Pclass  \\\n",
       "PassengerId                     \n",
       "1                   0       3   \n",
       "2                   1       1   \n",
       "3                   1       3   \n",
       "4                   1       1   \n",
       "5                   0       3   \n",
       "\n",
       "                                                          Name     Sex   Age  \\\n",
       "PassengerId                                                                    \n",
       "1                                      Braund, Mr. Owen Harris    male  22.0   \n",
       "2            Cumings, Mrs. John Bradley (Florence Briggs Th...  female  38.0   \n",
       "3                                       Heikkinen, Miss. Laina  female  26.0   \n",
       "4                 Futrelle, Mrs. Jacques Heath (Lily May Peel)  female  35.0   \n",
       "5                                     Allen, Mr. William Henry    male  35.0   \n",
       "\n",
       "             SibSp  Parch            Ticket     Fare Cabin Embarked  \n",
       "PassengerId                                                          \n",
       "1                1      0         A/5 21171   7.2500   NaN        S  \n",
       "2                1      0          PC 17599  71.2833   C85        C  \n",
       "3                0      0  STON/O2. 3101282   7.9250   NaN        S  \n",
       "4                1      0            113803  53.1000  C123        S  \n",
       "5                0      0            373450   8.0500   NaN        S  "
      ]
     },
     "execution_count": 2,
     "metadata": {},
     "output_type": "execute_result"
    }
   ],
   "source": [
    "train = pd.read_csv('datasets/train.csv', index_col='PassengerId')\n",
    "print(train.shape)\n",
    "train.head()"
   ]
  },
  {
   "cell_type": "markdown",
   "metadata": {},
   "source": [
    "891 passengers in our training set with 11 features. Here is a description of our features taken from the Data Dictionary. *My comments / initial predictions are in italics.*  <br><br>\n",
    "-'survival' - Self explanatory. 0 = No, 1 = Yes. *This is our target feature.*  <br><br>\n",
    "\n",
    "-'pclass' - Ticket class. 1 = 1st, 2 = 2nd, 3 = 3rd. *I assume that this will be negatively correllated with survival. I believe the lower class ticket cabins were placed on the lower decks of the boat making it more difficult to get to the lifeboats. Also, there were less lifeboats than there were people on board so I assume the rich people got priority lifeboat treatment.*  <br><br>\n",
    "\n",
    "-'sex' - Gender. *\"Women and children first\" is the infamous phrase from the event that indicated who was given priority to the lifeboats. This makes it likely that being female should indicate higher rates of survival.*  <br><br>\n",
    "\n",
    "-'Age' - Age in years *With children getting priority, we should expect lower ages to lead to higher likelihood of survival.*   <br><br>\n",
    "\n",
    "-'sibsp' - # of siblings / spouses aboard the Titanic. *Conflating a sibling with a spouse is a strange move and furthermore, it prevents us from finding out who all had multiple spouses on board. **That could have been interesting.** On a serious note, I'll be curious to see what the relationship here will be to our target. I would think having a 0 in this column could be detrimental to survival as you might not have anyone to help you in this very chaotic situation, with the exception of being an only child as I assume their parents would work very hard to ensure their survival. I would assume if you have multiple siblings on board that you are likely to be a child but maybe rich siblings liked to travel together as well.*  <br><br>\n",
    "\n",
    "-'parch' - # of parents / children aboard the Titanic. *Another weird feature. One would assume that any figure here > 2 would indicate that this person is definitely a child, but what if Grandma and Grandpa wanted to come on this big trip across the Atlantic? You could in theory have your children and your parents on board. Hopefully, there will be enough information within the other features that we can suss out everyone's familial situations.*   \t<br><br>\n",
    "\n",
    "-'ticket' - Ticket number - *Ticket number might have a connection with class but we won't know until we explore.* \t<br><br>\n",
    "\n",
    "-'fare'\t- Passenger fare - *The lower the fare, the poorer the person, the less likely they are to survive is my prediction.*   <br><br>\n",
    "-'cabin' - Cabin number. *I would expect some correllation here with where the cabin is placed within the ship and could indicate how far people were from lifeboats/how quickly water flooded into their rooms.*   \t<br><br>\n",
    "\n",
    "-'embarked' - Port of Embarkation: C = Cherbourg, France  Q = Queenstown, Ireland S = Southampton, U.K.. *Could be either a class relation/cabin placement for the where the passenger embarked from.* \n"
   ]
  },
  {
   "cell_type": "markdown",
   "metadata": {},
   "source": [
    "## Exploratory Data Analysis"
   ]
  },
  {
   "cell_type": "code",
   "execution_count": 3,
   "metadata": {},
   "outputs": [
    {
     "name": "stdout",
     "output_type": "stream",
     "text": [
      "22.895622895622896\n",
      "<class 'pandas.core.frame.DataFrame'>\n",
      "Int64Index: 891 entries, 1 to 891\n",
      "Data columns (total 11 columns):\n",
      " #   Column    Non-Null Count  Dtype  \n",
      "---  ------    --------------  -----  \n",
      " 0   Survived  891 non-null    int64  \n",
      " 1   Pclass    891 non-null    int64  \n",
      " 2   Name      891 non-null    object \n",
      " 3   Sex       891 non-null    object \n",
      " 4   Age       714 non-null    float64\n",
      " 5   SibSp     891 non-null    int64  \n",
      " 6   Parch     891 non-null    int64  \n",
      " 7   Ticket    891 non-null    object \n",
      " 8   Fare      891 non-null    float64\n",
      " 9   Cabin     204 non-null    object \n",
      " 10  Embarked  889 non-null    object \n",
      "dtypes: float64(2), int64(4), object(5)\n",
      "memory usage: 83.5+ KB\n"
     ]
    }
   ],
   "source": [
    "print(204/len(train)*100)\n",
    "train.info()"
   ]
  },
  {
   "cell_type": "markdown",
   "metadata": {},
   "source": [
    "We've got numeric and string (object) columns where would expect to see them. We're missing 77% of values in our Cabin column. This will likely not be terribly useful. "
   ]
  },
  {
   "cell_type": "code",
   "execution_count": 4,
   "metadata": {},
   "outputs": [
    {
     "data": {
      "text/html": [
       "<div>\n",
       "<style scoped>\n",
       "    .dataframe tbody tr th:only-of-type {\n",
       "        vertical-align: middle;\n",
       "    }\n",
       "\n",
       "    .dataframe tbody tr th {\n",
       "        vertical-align: top;\n",
       "    }\n",
       "\n",
       "    .dataframe thead th {\n",
       "        text-align: right;\n",
       "    }\n",
       "</style>\n",
       "<table border=\"1\" class=\"dataframe\">\n",
       "  <thead>\n",
       "    <tr style=\"text-align: right;\">\n",
       "      <th></th>\n",
       "      <th>Survived</th>\n",
       "      <th>Pclass</th>\n",
       "      <th>Age</th>\n",
       "      <th>SibSp</th>\n",
       "      <th>Parch</th>\n",
       "      <th>Fare</th>\n",
       "    </tr>\n",
       "  </thead>\n",
       "  <tbody>\n",
       "    <tr>\n",
       "      <th>count</th>\n",
       "      <td>891.000000</td>\n",
       "      <td>891.000000</td>\n",
       "      <td>714.000000</td>\n",
       "      <td>891.000000</td>\n",
       "      <td>891.000000</td>\n",
       "      <td>891.000000</td>\n",
       "    </tr>\n",
       "    <tr>\n",
       "      <th>mean</th>\n",
       "      <td>0.383838</td>\n",
       "      <td>2.308642</td>\n",
       "      <td>29.699118</td>\n",
       "      <td>0.523008</td>\n",
       "      <td>0.381594</td>\n",
       "      <td>32.204208</td>\n",
       "    </tr>\n",
       "    <tr>\n",
       "      <th>std</th>\n",
       "      <td>0.486592</td>\n",
       "      <td>0.836071</td>\n",
       "      <td>14.526497</td>\n",
       "      <td>1.102743</td>\n",
       "      <td>0.806057</td>\n",
       "      <td>49.693429</td>\n",
       "    </tr>\n",
       "    <tr>\n",
       "      <th>min</th>\n",
       "      <td>0.000000</td>\n",
       "      <td>1.000000</td>\n",
       "      <td>0.420000</td>\n",
       "      <td>0.000000</td>\n",
       "      <td>0.000000</td>\n",
       "      <td>0.000000</td>\n",
       "    </tr>\n",
       "    <tr>\n",
       "      <th>25%</th>\n",
       "      <td>0.000000</td>\n",
       "      <td>2.000000</td>\n",
       "      <td>20.125000</td>\n",
       "      <td>0.000000</td>\n",
       "      <td>0.000000</td>\n",
       "      <td>7.910400</td>\n",
       "    </tr>\n",
       "    <tr>\n",
       "      <th>50%</th>\n",
       "      <td>0.000000</td>\n",
       "      <td>3.000000</td>\n",
       "      <td>28.000000</td>\n",
       "      <td>0.000000</td>\n",
       "      <td>0.000000</td>\n",
       "      <td>14.454200</td>\n",
       "    </tr>\n",
       "    <tr>\n",
       "      <th>75%</th>\n",
       "      <td>1.000000</td>\n",
       "      <td>3.000000</td>\n",
       "      <td>38.000000</td>\n",
       "      <td>1.000000</td>\n",
       "      <td>0.000000</td>\n",
       "      <td>31.000000</td>\n",
       "    </tr>\n",
       "    <tr>\n",
       "      <th>max</th>\n",
       "      <td>1.000000</td>\n",
       "      <td>3.000000</td>\n",
       "      <td>80.000000</td>\n",
       "      <td>8.000000</td>\n",
       "      <td>6.000000</td>\n",
       "      <td>512.329200</td>\n",
       "    </tr>\n",
       "  </tbody>\n",
       "</table>\n",
       "</div>"
      ],
      "text/plain": [
       "         Survived      Pclass         Age       SibSp       Parch        Fare\n",
       "count  891.000000  891.000000  714.000000  891.000000  891.000000  891.000000\n",
       "mean     0.383838    2.308642   29.699118    0.523008    0.381594   32.204208\n",
       "std      0.486592    0.836071   14.526497    1.102743    0.806057   49.693429\n",
       "min      0.000000    1.000000    0.420000    0.000000    0.000000    0.000000\n",
       "25%      0.000000    2.000000   20.125000    0.000000    0.000000    7.910400\n",
       "50%      0.000000    3.000000   28.000000    0.000000    0.000000   14.454200\n",
       "75%      1.000000    3.000000   38.000000    1.000000    0.000000   31.000000\n",
       "max      1.000000    3.000000   80.000000    8.000000    6.000000  512.329200"
      ]
     },
     "execution_count": 4,
     "metadata": {},
     "output_type": "execute_result"
    }
   ],
   "source": [
    "train.describe()"
   ]
  },
  {
   "cell_type": "markdown",
   "metadata": {},
   "source": [
    "Survived: only 38% of the training passengers survived.  <br><br>\n",
    "\n",
    "Pclass: From looking at our quartiles. > 50% of passengers were in 3rd class. < 25% were in 1st class.  <br><br>\n",
    "\n",
    "Age: Average age was 29.7. We've got sizeable standard deviation of 14.5% as well. Our Q1 is 20, our median is 28, and our Q3 is 38 so we must have a few elderly people in the mix. Our max is 80. 80! Can you imagine being 80 on a ship that's hit an iceberg?  <br><br>\n",
    "\n",
    "SibSp: Remember this is # of Siblings/Spouses. > 50% had neither a sibling nor spouse on board. <br><br>\n",
    "\n",
    "Parch: # of Parents/Children. > 75% didn't have parents or children on board. <br><br>\n",
    "\n",
    "Fare: Mean Fare was 32, with the max being over 512. Our Q3 was 31 so the rich with the really expensive fares make up less than 25% of our dataset.  <br><br>\n",
    "\n",
    "Did our 80 year old survive?\n"
   ]
  },
  {
   "cell_type": "code",
   "execution_count": 5,
   "metadata": {},
   "outputs": [
    {
     "data": {
      "text/html": [
       "<div>\n",
       "<style scoped>\n",
       "    .dataframe tbody tr th:only-of-type {\n",
       "        vertical-align: middle;\n",
       "    }\n",
       "\n",
       "    .dataframe tbody tr th {\n",
       "        vertical-align: top;\n",
       "    }\n",
       "\n",
       "    .dataframe thead th {\n",
       "        text-align: right;\n",
       "    }\n",
       "</style>\n",
       "<table border=\"1\" class=\"dataframe\">\n",
       "  <thead>\n",
       "    <tr style=\"text-align: right;\">\n",
       "      <th></th>\n",
       "      <th>Survived</th>\n",
       "      <th>Pclass</th>\n",
       "      <th>Name</th>\n",
       "      <th>Sex</th>\n",
       "      <th>Age</th>\n",
       "      <th>SibSp</th>\n",
       "      <th>Parch</th>\n",
       "      <th>Ticket</th>\n",
       "      <th>Fare</th>\n",
       "      <th>Cabin</th>\n",
       "      <th>Embarked</th>\n",
       "    </tr>\n",
       "    <tr>\n",
       "      <th>PassengerId</th>\n",
       "      <th></th>\n",
       "      <th></th>\n",
       "      <th></th>\n",
       "      <th></th>\n",
       "      <th></th>\n",
       "      <th></th>\n",
       "      <th></th>\n",
       "      <th></th>\n",
       "      <th></th>\n",
       "      <th></th>\n",
       "      <th></th>\n",
       "    </tr>\n",
       "  </thead>\n",
       "  <tbody>\n",
       "    <tr>\n",
       "      <th>631</th>\n",
       "      <td>1</td>\n",
       "      <td>1</td>\n",
       "      <td>Barkworth, Mr. Algernon Henry Wilson</td>\n",
       "      <td>male</td>\n",
       "      <td>80.0</td>\n",
       "      <td>0</td>\n",
       "      <td>0</td>\n",
       "      <td>27042</td>\n",
       "      <td>30.0</td>\n",
       "      <td>A23</td>\n",
       "      <td>S</td>\n",
       "    </tr>\n",
       "  </tbody>\n",
       "</table>\n",
       "</div>"
      ],
      "text/plain": [
       "             Survived  Pclass                                  Name   Sex  \\\n",
       "PassengerId                                                                 \n",
       "631                 1       1  Barkworth, Mr. Algernon Henry Wilson  male   \n",
       "\n",
       "              Age  SibSp  Parch Ticket  Fare Cabin Embarked  \n",
       "PassengerId                                                  \n",
       "631          80.0      0      0  27042  30.0   A23        S  "
      ]
     },
     "execution_count": 5,
     "metadata": {},
     "output_type": "execute_result"
    }
   ],
   "source": [
    "train[train.Age == 80]"
   ]
  },
  {
   "cell_type": "markdown",
   "metadata": {},
   "source": [
    "Sure did! An 80 year old man named Algernon Barkworth. Incredible. <br><br>\n",
    "\n",
    "Here's our target feature better spelled out."
   ]
  },
  {
   "cell_type": "code",
   "execution_count": 6,
   "metadata": {},
   "outputs": [
    {
     "data": {
      "text/plain": [
       "0    0.616162\n",
       "1    0.383838\n",
       "Name: Survived, dtype: float64"
      ]
     },
     "execution_count": 6,
     "metadata": {},
     "output_type": "execute_result"
    }
   ],
   "source": [
    "train['Survived'].value_counts(normalize=True)"
   ]
  },
  {
   "cell_type": "markdown",
   "metadata": {},
   "source": [
    " 61.6% of our training passengers didn't make it. We would expect gender to play a huge role in survival since women and children were given priority to the lifeboats. "
   ]
  },
  {
   "cell_type": "code",
   "execution_count": 7,
   "metadata": {},
   "outputs": [
    {
     "name": "stdout",
     "output_type": "stream",
     "text": [
      "18.89% of men survived\n",
      "74.2% of women survived\n"
     ]
    }
   ],
   "source": [
    "men_survival = train[train.Sex == 'male']['Survived'].mean().round(4)\n",
    "women_survival = train[train.Sex == 'female']['Survived'].mean().round(4)\n",
    "print(f'{men_survival*100}% of men survived')\n",
    "print(f'{women_survival*100}% of women survived')"
   ]
  },
  {
   "cell_type": "markdown",
   "metadata": {},
   "source": [
    "And we were correct. Gender will play a HUGE role in who survives and who doesn't.\n",
    "\n",
    "When I was looking at the data, I noticed a lot of the married women would be listed in this format: \"Mrs. Husband's name (her real name)\" leading to longer names for married women. We're going to use the length of their names as a feature and see if that leads to anything. In addition, we're going to do a little string manipulation to get everyone's title (Mr, Miss, etc.)."
   ]
  },
  {
   "cell_type": "code",
   "execution_count": 8,
   "metadata": {},
   "outputs": [
    {
     "data": {
      "text/plain": [
       "Index(['Survived', 'Pclass', 'Name', 'Sex', 'Age', 'SibSp', 'Parch', 'Ticket',\n",
       "       'Fare', 'Cabin', 'Embarked'],\n",
       "      dtype='object')"
      ]
     },
     "execution_count": 8,
     "metadata": {},
     "output_type": "execute_result"
    }
   ],
   "source": [
    "train.columns"
   ]
  },
  {
   "cell_type": "markdown",
   "metadata": {},
   "source": [
    "We're going to do a little feature engineering now. First, we're going to combine Parents+Children and Siblings+Spouses into a singular feature. This increase in variance by combining the two might have more impact on the model . "
   ]
  },
  {
   "cell_type": "code",
   "execution_count": 9,
   "metadata": {},
   "outputs": [
    {
     "data": {
      "text/plain": [
       "0     537\n",
       "1     161\n",
       "2     102\n",
       "3      29\n",
       "5      22\n",
       "4      15\n",
       "6      12\n",
       "10      7\n",
       "7       6\n",
       "Name: Family, dtype: int64"
      ]
     },
     "execution_count": 9,
     "metadata": {},
     "output_type": "execute_result"
    }
   ],
   "source": [
    "train['Family'] = train['Parch'] + train['SibSp']\n",
    "train.Family.value_counts()"
   ]
  },
  {
   "cell_type": "markdown",
   "metadata": {},
   "source": [
    "We're also going to make a feature that indicates if they were alone on the ship or not. One would expect people who were alone to have less of a chance of survival. "
   ]
  },
  {
   "cell_type": "code",
   "execution_count": 10,
   "metadata": {},
   "outputs": [
    {
     "data": {
      "text/plain": [
       "1    537\n",
       "0    354\n",
       "Name: Alone, dtype: int64"
      ]
     },
     "execution_count": 10,
     "metadata": {},
     "output_type": "execute_result"
    }
   ],
   "source": [
    "train['Alone'] = (train['Family'].apply(lambda x : x < 1))*1\n",
    "train['Alone'].value_counts()"
   ]
  },
  {
   "cell_type": "markdown",
   "metadata": {},
   "source": [
    "When I was looking at the data, I noticed a lot of the married women would be listed in this format: \"Mrs. Husband's name (her real name)\" leading to longer names for married women. We're going to use the length of their names as a feature and see if that leads to anything. In addition, we're going to do a little string manipulation to get everyone's title (Mr, Miss, etc.)."
   ]
  },
  {
   "cell_type": "code",
   "execution_count": 11,
   "metadata": {},
   "outputs": [],
   "source": [
    "#create name_length feature from the length of the Name column\n",
    "train['name_length'] = train.Name.apply(lambda x: len(x))\n",
    "#create title from splitting it out from the name column\n",
    "train['title'] = train.Name.apply(lambda x: x.split(',')[1].split('.')[0].strip())"
   ]
  },
  {
   "cell_type": "code",
   "execution_count": 12,
   "metadata": {},
   "outputs": [
    {
     "data": {
      "image/png": "[encoded data removed]",
      "text/plain": [
       "<Figure size 576x432 with 1 Axes>"
      ]
     },
     "metadata": {},
     "output_type": "display_data"
    }
   ],
   "source": [
    "train['name_length'].plot(kind='hist')\n",
    "plt.title('Name Length')\n",
    "plt.show()"
   ]
  },
  {
   "cell_type": "markdown",
   "metadata": {},
   "source": [
    "Let's look at the titles we created. "
   ]
  },
  {
   "cell_type": "code",
   "execution_count": 13,
   "metadata": {},
   "outputs": [
    {
     "data": {
      "text/plain": [
       "Mr              517\n",
       "Miss            182\n",
       "Mrs             125\n",
       "Master           40\n",
       "Dr                7\n",
       "Rev               6\n",
       "Mlle              2\n",
       "Major             2\n",
       "Col               2\n",
       "Don               1\n",
       "Sir               1\n",
       "Lady              1\n",
       "the Countess      1\n",
       "Jonkheer          1\n",
       "Capt              1\n",
       "Ms                1\n",
       "Mme               1\n",
       "Name: title, dtype: int64"
      ]
     },
     "execution_count": 13,
     "metadata": {},
     "output_type": "execute_result"
    }
   ],
   "source": [
    "train['title'].value_counts()"
   ]
  },
  {
   "cell_type": "markdown",
   "metadata": {},
   "source": [
    "I had to spend some time on Wikipedia for this section. Regarding titles, they fall into three categories.  <br><br> \n",
    "<ins>Personal Titles:</ins>\n",
    "1. Mr - only indicates that they're male. No indication of marital status. \n",
    "2. Miss, Ms, Mlle (Mademoisselle) - unmarried woman.\n",
    "3. Mrs or Mme (Madam) - married woman\n",
    "4. Master - young boy (likely rich)\n",
    "<br><br>\n",
    "\n",
    "<ins>Occupations:</ins> *I assume these will all be men given the time period.*\n",
    "1. Dr - Doctor\n",
    "2. Rev - Reverend\n",
    "3. Col - Colonel\n",
    "4. Major \n",
    "5. Capt - Captain. They're supposed to go down with the ship if the old adage holds true. \n",
    "<br><br>\n",
    "\n",
    "<ins>Honorifics:</ins>\n",
    "1. Sir - A man who's been knighted. \n",
    "2. Lady - A woman of nobility. A Lord's wife.  \n",
    "3. Don - A male honorific typically connected to Spain or Italy. \n",
    "4. Jonkheer - A male honorific from what were historically known as the Low Countries in Europe. (Netherlands, Belgium et. al.)\n",
    "5. the Countess - The wife of a Count.   "
   ]
  },
  {
   "cell_type": "code",
   "execution_count": 14,
   "metadata": {},
   "outputs": [],
   "source": [
    "#A function used to make pivot tables from categorical variables \n",
    "def make_pivots(columns):\n",
    "    for col in columns:\n",
    "        table = pd.pivot_table(train, index = 'Survived', columns = col, values = 'Ticket' ,aggfunc ='count')\n",
    "        print(table)\n",
    "        print()"
   ]
  },
  {
   "cell_type": "code",
   "execution_count": 15,
   "metadata": {},
   "outputs": [
    {
     "name": "stdout",
     "output_type": "stream",
     "text": [
      "title     Capt  Col  Don   Dr  Jonkheer  Lady  Major  Master   Miss  Mlle  \\\n",
      "Survived                                                                    \n",
      "0          1.0  1.0  1.0  4.0       1.0   NaN    1.0    17.0   55.0   NaN   \n",
      "1          NaN  1.0  NaN  3.0       NaN   1.0    1.0    23.0  127.0   2.0   \n",
      "\n",
      "title     Mme     Mr   Mrs   Ms  Rev  Sir  the Countess  \n",
      "Survived                                                 \n",
      "0         NaN  436.0  26.0  NaN  6.0  NaN           NaN  \n",
      "1         1.0   81.0  99.0  1.0  NaN  1.0           1.0  \n",
      "\n"
     ]
    }
   ],
   "source": [
    "make_pivots(['title'])"
   ]
  },
  {
   "cell_type": "markdown",
   "metadata": {},
   "source": [
    "-The Captain did indeed go down with the ship. Good on him.<br>\n",
    "-It appears that for a lot of these occupation titles and honorifics, the sample sizes are too small for the model to do much with.<br>\n",
    "-From looking at these numbers we can develop a tier system of survival: Married Woman > Unmarried Woman > Male<br>\n",
    "-There aren't really enough honorifics to make a judgment call here but both \"The Lady\" and \"The Countess\" survived. \n",
    "-Occupations have a high mortality rate as we would expect since they're all men. <br>\n",
    "-My biggest surprise in this is the mortality rate of the \"Master\" title. I expected children, especially ones with titles, to perform better than that. \n",
    "<br><br>\n",
    "Let's look at Masters. \n"
   ]
  },
  {
   "cell_type": "code",
   "execution_count": 16,
   "metadata": {},
   "outputs": [
    {
     "name": "stdout",
     "output_type": "stream",
     "text": [
      "male    40\n",
      "Name: Sex, dtype: int64\n",
      "1.00     5\n",
      "4.00     5\n",
      "3.00     4\n",
      "9.00     4\n",
      "2.00     4\n",
      "0.83     2\n",
      "8.00     2\n",
      "11.00    2\n",
      "7.00     2\n",
      "0.67     1\n",
      "0.92     1\n",
      "0.42     1\n",
      "10.00    1\n",
      "6.00     1\n",
      "12.00    1\n",
      "Name: Age, dtype: int64\n"
     ]
    }
   ],
   "source": [
    "print(train[train.title==\"Master\"]['Sex'].value_counts())\n",
    "print(train[train.title==\"Master\"]['Age'].value_counts())"
   ]
  },
  {
   "cell_type": "markdown",
   "metadata": {},
   "source": [
    "They're all young boys like we expected. Hmm... that's odd. Let's look at survival rates in children. "
   ]
  },
  {
   "cell_type": "code",
   "execution_count": 17,
   "metadata": {},
   "outputs": [
    {
     "data": {
      "text/plain": [
       "0.5398230088495575"
      ]
     },
     "execution_count": 17,
     "metadata": {},
     "output_type": "execute_result"
    }
   ],
   "source": [
    "kids = train[train.Age < 18]\n",
    "kids['Survived'].mean()"
   ]
  },
  {
   "cell_type": "markdown",
   "metadata": {},
   "source": [
    "A 54% survival rate for kids? It's much better than the overall population survival rate of 38% but still much lower than I expected. "
   ]
  },
  {
   "cell_type": "code",
   "execution_count": 18,
   "metadata": {},
   "outputs": [
    {
     "name": "stdout",
     "output_type": "stream",
     "text": [
      " Boy Survival Rate: 0.39655172413793105\n",
      " Girl Survival Rate: 0.6909090909090909\n"
     ]
    }
   ],
   "source": [
    "boy_survival = kids[kids.Sex == 'male']['Survived'].mean()\n",
    "girl_survival = kids[kids.Sex == 'female']['Survived'].mean()\n",
    "print(f' Boy Survival Rate: {boy_survival}')\n",
    "print(f' Girl Survival Rate: {girl_survival}')"
   ]
  },
  {
   "cell_type": "markdown",
   "metadata": {},
   "source": [
    "Girls were 30% more likely to survive than boys? My theory here is my age is too high to consider them as \"children\" who need priority boarding on the boats. Let's lower the Age threshold. "
   ]
  },
  {
   "cell_type": "code",
   "execution_count": 19,
   "metadata": {},
   "outputs": [
    {
     "name": "stdout",
     "output_type": "stream",
     "text": [
      "0.5915492957746479\n",
      " Boy Survival Rate: 0.5675675675675675\n",
      " Girl Survival Rate: 0.6176470588235294\n"
     ]
    }
   ],
   "source": [
    "kids = train[train.Age < 14]\n",
    "print(kids['Survived'].mean())\n",
    "boy_survival = kids[kids.Sex == 'male']['Survived'].mean()\n",
    "girl_survival = kids[kids.Sex == 'female']['Survived'].mean()\n",
    "print(f' Boy Survival Rate: {boy_survival}')\n",
    "print(f' Girl Survival Rate: {girl_survival}')"
   ]
  },
  {
   "cell_type": "markdown",
   "metadata": {},
   "source": [
    "That's much better. The term men was likely applied to boys in their mid to late teens back then.  <br><br>\n",
    "\n",
    "Since a lot of these features don't appear once, it could be advantageous to group titles together to give them more meaning to our model."
   ]
  },
  {
   "cell_type": "code",
   "execution_count": 20,
   "metadata": {},
   "outputs": [],
   "source": [
    "#creates 5 different categories based on the Passenger's title. \n",
    "def title_group(title):\n",
    "    married_woman = ['Mrs', 'Mme']\n",
    "    unmarried_woman = ['Miss', 'Ms', 'Mlle']\n",
    "    occupation = ['Dr', 'Rev', 'Col', 'Major', 'Capt']\n",
    "    male_honorific = ['Sir', 'Don', 'Jonkheer']\n",
    "    female_honorific = ['Lady', 'the Countess', 'Dona'] #Dona will appear in our test set \n",
    "    \n",
    "    if title in unmarried_woman:\n",
    "        return 'Unmarried Woman'\n",
    "    elif title in occupation:\n",
    "        return 'Occupation'\n",
    "    elif title in male_honorific:\n",
    "        return 'Male Noble'\n",
    "    elif title in female_honorific:\n",
    "        return 'Female Noble'\n",
    "    elif title == 'Mr':\n",
    "        return 'Man'\n",
    "    elif title in married_woman:\n",
    "        return 'Married Woman'\n",
    "    elif title == 'Master':\n",
    "        return 'Young Boy' "
   ]
  },
  {
   "cell_type": "code",
   "execution_count": 21,
   "metadata": {},
   "outputs": [
    {
     "data": {
      "text/plain": [
       "Man                517\n",
       "Unmarried Woman    185\n",
       "Married Woman      126\n",
       "Young Boy           40\n",
       "Occupation          18\n",
       "Male Noble           3\n",
       "Female Noble         2\n",
       "Name: title_group, dtype: int64"
      ]
     },
     "execution_count": 21,
     "metadata": {},
     "output_type": "execute_result"
    }
   ],
   "source": [
    "#apply the function to our title column to create a new \"title_group\" column\n",
    "train['title_group'] = train['title'].apply(title_group)\n",
    "train['title_group'].value_counts()"
   ]
  },
  {
   "cell_type": "code",
   "execution_count": 22,
   "metadata": {},
   "outputs": [
    {
     "name": "stdout",
     "output_type": "stream",
     "text": [
      "title_group  Female Noble  Male Noble    Man  Married Woman  Occupation  \\\n",
      "Survived                                                                  \n",
      "0                     NaN         2.0  436.0           26.0        13.0   \n",
      "1                     2.0         1.0   81.0          100.0         5.0   \n",
      "\n",
      "title_group  Unmarried Woman  Young Boy  \n",
      "Survived                                 \n",
      "0                       55.0       17.0  \n",
      "1                      130.0       23.0  \n",
      "\n"
     ]
    }
   ],
   "source": [
    "make_pivots(['title_group'])"
   ]
  },
  {
   "cell_type": "markdown",
   "metadata": {},
   "source": [
    "I want to utilize the ticket and cabin columns if I can so we're just going to experiment with some feature engineering."
   ]
  },
  {
   "cell_type": "code",
   "execution_count": 23,
   "metadata": {},
   "outputs": [],
   "source": [
    "#Boolean feature for if the ticket is numeric.\n",
    "train['numeric_ticket'] = train.Ticket.apply(lambda x: 1 if x.isnumeric() else 0)\n",
    "#The first letter of each Cabin is it's group. NaNs will turn into n's.\n",
    "train['cabin_group'] = train.Cabin.apply(lambda x: str(x)[0])"
   ]
  },
  {
   "cell_type": "code",
   "execution_count": 24,
   "metadata": {},
   "outputs": [
    {
     "name": "stdout",
     "output_type": "stream",
     "text": [
      "cabin_group    A     B     C     D     E    F    G    T      n\n",
      "Survived                                                      \n",
      "0            8.0  12.0  24.0   8.0   8.0  5.0  2.0  1.0  481.0\n",
      "1            7.0  35.0  35.0  25.0  24.0  8.0  2.0  NaN  206.0\n",
      "\n"
     ]
    }
   ],
   "source": [
    "make_pivots(['cabin_group'])"
   ]
  },
  {
   "cell_type": "markdown",
   "metadata": {},
   "source": [
    "Separating numeric and categorical features is a great way to do your EDA as you will perform different techniques accordingly. "
   ]
  },
  {
   "cell_type": "code",
   "execution_count": 25,
   "metadata": {},
   "outputs": [
    {
     "data": {
      "text/plain": [
       "Index(['Survived', 'Pclass', 'Name', 'Sex', 'Age', 'SibSp', 'Parch', 'Ticket',\n",
       "       'Fare', 'Cabin', 'Embarked', 'Family', 'Alone', 'name_length', 'title',\n",
       "       'title_group', 'numeric_ticket', 'cabin_group'],\n",
       "      dtype='object')"
      ]
     },
     "execution_count": 25,
     "metadata": {},
     "output_type": "execute_result"
    }
   ],
   "source": [
    "train.columns"
   ]
  },
  {
   "cell_type": "code",
   "execution_count": 26,
   "metadata": {},
   "outputs": [],
   "source": [
    "numeric = train[['Age', 'SibSp', 'Parch', 'Fare', 'name_length', 'Family']]\n",
    "categ = train[['Pclass', 'Sex', 'numeric_ticket',\n",
    "               'Embarked','title_group', 'cabin_group', 'Alone']]"
   ]
  },
  {
   "cell_type": "markdown",
   "metadata": {},
   "source": [
    "We're going to make some histograms for our numeric columns. These will essentially serve as visualizations to confirm and expand the insights we gained from describe earlier."
   ]
  },
  {
   "cell_type": "code",
   "execution_count": 27,
   "metadata": {},
   "outputs": [
    {
     "data": {
      "text/plain": [
       "1    661\n",
       "0    230\n",
       "Name: numeric_ticket, dtype: int64"
      ]
     },
     "execution_count": 27,
     "metadata": {},
     "output_type": "execute_result"
    }
   ],
   "source": [
    "train['numeric_ticket'].value_counts()"
   ]
  },
  {
   "cell_type": "code",
   "execution_count": 28,
   "metadata": {},
   "outputs": [
    {
     "name": "stderr",
     "output_type": "stream",
     "text": [
      "C:\\Users\\hunte\\miniconda3\\lib\\site-packages\\numpy\\lib\\histograms.py:839: RuntimeWarning: invalid value encountered in greater_equal\n",
      "  keep = (tmp_a >= first_edge)\n",
      "C:\\Users\\hunte\\miniconda3\\lib\\site-packages\\numpy\\lib\\histograms.py:840: RuntimeWarning: invalid value encountered in less_equal\n",
      "  keep &= (tmp_a <= last_edge)\n"
     ]
    },
    {
     "data": {
      "image/png": "[encoded data removed]",
      "text/plain": [
       "<Figure size 576x432 with 1 Axes>"
      ]
     },
     "metadata": {},
     "output_type": "display_data"
    },
    {
     "data": {
      "image/png": "[encoded data removed]",
      "text/plain": [
       "<Figure size 576x432 with 1 Axes>"
      ]
     },
     "metadata": {},
     "output_type": "display_data"
    },
    {
     "data": {
      "image/png": "[encoded data removed]",
      "text/plain": [
       "<Figure size 576x432 with 1 Axes>"
      ]
     },
     "metadata": {},
     "output_type": "display_data"
    },
    {
     "data": {
      "image/png": "[encoded data removed]",
      "text/plain": [
       "<Figure size 576x432 with 1 Axes>"
      ]
     },
     "metadata": {},
     "output_type": "display_data"
    },
    {
     "data": {
      "image/png": "[encoded data removed]",
      "text/plain": [
       "<Figure size 576x432 with 1 Axes>"
      ]
     },
     "metadata": {},
     "output_type": "display_data"
    },
    {
     "data": {
      "image/png": "[encoded data removed]",
      "text/plain": [
       "<Figure size 576x432 with 1 Axes>"
      ]
     },
     "metadata": {},
     "output_type": "display_data"
    }
   ],
   "source": [
    "for i in numeric.columns:\n",
    "    plt.hist(numeric[i])\n",
    "    plt.title(i)\n",
    "    plt.show()"
   ]
  },
  {
   "cell_type": "code",
   "execution_count": 29,
   "metadata": {},
   "outputs": [
    {
     "data": {
      "text/plain": [
       "Survived          1.000000\n",
       "name_length       0.332350\n",
       "Fare              0.257307\n",
       "Parch             0.081629\n",
       "Family            0.016639\n",
       "numeric_ticket    0.001492\n",
       "SibSp            -0.035322\n",
       "Age              -0.077221\n",
       "Alone            -0.203367\n",
       "Pclass           -0.338481\n",
       "Name: Survived, dtype: float64"
      ]
     },
     "execution_count": 29,
     "metadata": {},
     "output_type": "execute_result"
    }
   ],
   "source": [
    "correllation = train.corr()\n",
    "correllation['Survived'].sort_values(ascending=False)"
   ]
  },
  {
   "cell_type": "markdown",
   "metadata": {},
   "source": [
    "-Name length is the most positively correllated. Married women seem to have the longest names so this supports our theory. <br>\n",
    "-Fare should denote class along with cabin placement so this makes sense as well. <br>\n",
    "-Pclass as a highly negative correllation makes sense for the same reason. <br>\n",
    "-As we guessed, being alone was not conducive to survival. \n",
    "\n",
    "\n",
    "Are there any interesting correllations between features?"
   ]
  },
  {
   "cell_type": "code",
   "execution_count": 30,
   "metadata": {},
   "outputs": [
    {
     "data": {
      "image/png": "[encoded data removed]",
      "text/plain": [
       "<Figure size 720x576 with 2 Axes>"
      ]
     },
     "metadata": {},
     "output_type": "display_data"
    }
   ],
   "source": [
    "correllation.drop(['Survived'], inplace=True)\n",
    "correllation.drop(columns=['Survived'], inplace=True)\n",
    "fig, ax = plt.subplots(figsize = (10,8))\n",
    "sns.heatmap(correllation, annot=True, cmap='coolwarm', vmin=-1, center=0, vmax=1)\n",
    "plt.show()"
   ]
  },
  {
   "cell_type": "markdown",
   "metadata": {},
   "source": [
    "-The class that you're in is negatively correllated with Age. Older = more wealthy, more stable financially. A lot of young people rode the Titanic to find new opportunities in America. The older ones were more likely to be on vacation. <br>\n",
    "-Fares obviously negatively correllated with class. <br>\n",
    "-Age and Siblings/Spouses count are negatively correllated. If you had siblings on board, you were more likely to be younger. <br>"
   ]
  },
  {
   "cell_type": "code",
   "execution_count": 31,
   "metadata": {},
   "outputs": [
    {
     "data": {
      "image/png": "[encoded data removed]",
      "text/plain": [
       "<Figure size 576x432 with 1 Axes>"
      ]
     },
     "metadata": {},
     "output_type": "display_data"
    },
    {
     "data": {
      "image/png": "[encoded data removed]",
      "text/plain": [
       "<Figure size 576x432 with 1 Axes>"
      ]
     },
     "metadata": {},
     "output_type": "display_data"
    },
    {
     "data": {
      "image/png": "[encoded data removed]",
      "text/plain": [
       "<Figure size 576x432 with 1 Axes>"
      ]
     },
     "metadata": {},
     "output_type": "display_data"
    },
    {
     "data": {
      "image/png": "[encoded data removed]",
      "text/plain": [
       "<Figure size 576x432 with 1 Axes>"
      ]
     },
     "metadata": {},
     "output_type": "display_data"
    },
    {
     "data": {
      "image/png": "[encoded data removed]",
      "text/plain": [
       "<Figure size 576x432 with 1 Axes>"
      ]
     },
     "metadata": {},
     "output_type": "display_data"
    },
    {
     "data": {
      "image/png": "[encoded data removed]",
      "text/plain": [
       "<Figure size 576x432 with 1 Axes>"
      ]
     },
     "metadata": {},
     "output_type": "display_data"
    },
    {
     "data": {
      "image/png": "[encoded data removed]",
      "text/plain": [
       "<Figure size 576x432 with 1 Axes>"
      ]
     },
     "metadata": {},
     "output_type": "display_data"
    }
   ],
   "source": [
    "for i in categ.columns:\n",
    "    sns.barplot(categ[i].value_counts().index, categ[i].value_counts()).set_title(i)\n",
    "    plt.show()"
   ]
  },
  {
   "cell_type": "code",
   "execution_count": 32,
   "metadata": {},
   "outputs": [
    {
     "name": "stdout",
     "output_type": "stream",
     "text": [
      "Pclass      1   2    3\n",
      "Survived              \n",
      "0          80  97  372\n",
      "1         136  87  119\n",
      "\n",
      "numeric_ticket    0    1\n",
      "Survived                \n",
      "0               142  407\n",
      "1                88  254\n",
      "\n",
      "Embarked   C   Q    S\n",
      "Survived             \n",
      "0         75  47  427\n",
      "1         93  30  217\n",
      "\n",
      "cabin_group    A     B     C     D     E    F    G    T      n\n",
      "Survived                                                      \n",
      "0            8.0  12.0  24.0   8.0   8.0  5.0  2.0  1.0  481.0\n",
      "1            7.0  35.0  35.0  25.0  24.0  8.0  2.0  NaN  206.0\n",
      "\n"
     ]
    }
   ],
   "source": [
    "make_pivots(['Pclass', 'numeric_ticket', 'Embarked', 'cabin_group'])"
   ]
  },
  {
   "cell_type": "markdown",
   "metadata": {},
   "source": [
    "## Preprocessing"
   ]
  },
  {
   "cell_type": "markdown",
   "metadata": {},
   "source": [
    "How do we look in terms of missing values?"
   ]
  },
  {
   "cell_type": "code",
   "execution_count": 33,
   "metadata": {},
   "outputs": [
    {
     "name": "stdout",
     "output_type": "stream",
     "text": [
      "Survived            0\n",
      "Pclass              0\n",
      "Name                0\n",
      "Sex                 0\n",
      "Age               177\n",
      "SibSp               0\n",
      "Parch               0\n",
      "Ticket              0\n",
      "Fare                0\n",
      "Cabin             687\n",
      "Embarked            2\n",
      "Family              0\n",
      "Alone               0\n",
      "name_length         0\n",
      "title               0\n",
      "title_group         0\n",
      "numeric_ticket      0\n",
      "cabin_group         0\n",
      "dtype: int64\n"
     ]
    },
    {
     "data": {
      "text/plain": [
       "Survived          0.000000\n",
       "Pclass            0.000000\n",
       "Name              0.000000\n",
       "Sex               0.000000\n",
       "Age               0.198653\n",
       "SibSp             0.000000\n",
       "Parch             0.000000\n",
       "Ticket            0.000000\n",
       "Fare              0.000000\n",
       "Cabin             0.771044\n",
       "Embarked          0.002245\n",
       "Family            0.000000\n",
       "Alone             0.000000\n",
       "name_length       0.000000\n",
       "title             0.000000\n",
       "title_group       0.000000\n",
       "numeric_ticket    0.000000\n",
       "cabin_group       0.000000\n",
       "dtype: float64"
      ]
     },
     "execution_count": 33,
     "metadata": {},
     "output_type": "execute_result"
    }
   ],
   "source": [
    "print(train.isna().sum())\n",
    "train.isna().sum()/len(train)"
   ]
  },
  {
   "cell_type": "markdown",
   "metadata": {},
   "source": [
    "Missing 20% of Age, 77% of Cabins and a negligible amount of Embarked. "
   ]
  },
  {
   "cell_type": "code",
   "execution_count": 34,
   "metadata": {},
   "outputs": [
    {
     "data": {
      "image/png": "[encoded data removed]",
      "text/plain": [
       "<Figure size 576x432 with 1 Axes>"
      ]
     },
     "metadata": {},
     "output_type": "display_data"
    }
   ],
   "source": [
    "#Look at the distribution of Age\n",
    "train['Age'].plot(kind='hist')\n",
    "plt.show()"
   ]
  },
  {
   "cell_type": "markdown",
   "metadata": {},
   "source": [
    "We'll use SimpleImputer to impute the median for age and the mode for Embarked. "
   ]
  },
  {
   "cell_type": "code",
   "execution_count": 35,
   "metadata": {},
   "outputs": [],
   "source": [
    "from sklearn.impute import SimpleImputer\n",
    "median_impute = SimpleImputer(strategy = 'median')\n",
    "train['Age'] = median_impute.fit_transform(train[['Age']])"
   ]
  },
  {
   "cell_type": "code",
   "execution_count": 36,
   "metadata": {},
   "outputs": [],
   "source": [
    "mode_impute = SimpleImputer(strategy = 'most_frequent')\n",
    "train['Embarked'] = mode_impute.fit_transform(train[['Embarked']])"
   ]
  },
  {
   "cell_type": "code",
   "execution_count": 37,
   "metadata": {},
   "outputs": [],
   "source": [
    "#Drop the columns that we performed feature engineering on. \n",
    "train.drop(columns=['Cabin', 'Name', 'Ticket', 'title', 'Parch', 'SibSp'], inplace=True)"
   ]
  },
  {
   "cell_type": "code",
   "execution_count": 38,
   "metadata": {},
   "outputs": [
    {
     "data": {
      "text/plain": [
       "Survived          0\n",
       "Pclass            0\n",
       "Sex               0\n",
       "Age               0\n",
       "Fare              0\n",
       "Embarked          0\n",
       "Family            0\n",
       "Alone             0\n",
       "name_length       0\n",
       "title_group       0\n",
       "numeric_ticket    0\n",
       "cabin_group       0\n",
       "dtype: int64"
      ]
     },
     "execution_count": 38,
     "metadata": {},
     "output_type": "execute_result"
    }
   ],
   "source": [
    "train.isna().sum()"
   ]
  },
  {
   "cell_type": "markdown",
   "metadata": {},
   "source": [
    "No more missing data. Wonderful. \n",
    "\n",
    "We're going to use onehotencoding to create numerical features out of our categorical ones. "
   ]
  },
  {
   "cell_type": "code",
   "execution_count": 39,
   "metadata": {},
   "outputs": [],
   "source": [
    "#List of categorical features\n",
    "hotlist=['Pclass','Sex','Embarked', 'numeric_ticket', 'cabin_group', 'title_group']"
   ]
  },
  {
   "cell_type": "code",
   "execution_count": 40,
   "metadata": {},
   "outputs": [
    {
     "data": {
      "text/html": [
       "<div>\n",
       "<style scoped>\n",
       "    .dataframe tbody tr th:only-of-type {\n",
       "        vertical-align: middle;\n",
       "    }\n",
       "\n",
       "    .dataframe tbody tr th {\n",
       "        vertical-align: top;\n",
       "    }\n",
       "\n",
       "    .dataframe thead th {\n",
       "        text-align: right;\n",
       "    }\n",
       "</style>\n",
       "<table border=\"1\" class=\"dataframe\">\n",
       "  <thead>\n",
       "    <tr style=\"text-align: right;\">\n",
       "      <th></th>\n",
       "      <th>Survived</th>\n",
       "      <th>Age</th>\n",
       "      <th>Fare</th>\n",
       "      <th>Family</th>\n",
       "      <th>Alone</th>\n",
       "      <th>name_length</th>\n",
       "      <th>x0_2</th>\n",
       "      <th>x0_3</th>\n",
       "      <th>x1_male</th>\n",
       "      <th>x2_Q</th>\n",
       "      <th>...</th>\n",
       "      <th>x4_F</th>\n",
       "      <th>x4_G</th>\n",
       "      <th>x4_T</th>\n",
       "      <th>x4_n</th>\n",
       "      <th>x5_Male Noble</th>\n",
       "      <th>x5_Man</th>\n",
       "      <th>x5_Married Woman</th>\n",
       "      <th>x5_Occupation</th>\n",
       "      <th>x5_Unmarried Woman</th>\n",
       "      <th>x5_Young Boy</th>\n",
       "    </tr>\n",
       "    <tr>\n",
       "      <th>PassengerId</th>\n",
       "      <th></th>\n",
       "      <th></th>\n",
       "      <th></th>\n",
       "      <th></th>\n",
       "      <th></th>\n",
       "      <th></th>\n",
       "      <th></th>\n",
       "      <th></th>\n",
       "      <th></th>\n",
       "      <th></th>\n",
       "      <th></th>\n",
       "      <th></th>\n",
       "      <th></th>\n",
       "      <th></th>\n",
       "      <th></th>\n",
       "      <th></th>\n",
       "      <th></th>\n",
       "      <th></th>\n",
       "      <th></th>\n",
       "      <th></th>\n",
       "      <th></th>\n",
       "    </tr>\n",
       "  </thead>\n",
       "  <tbody>\n",
       "    <tr>\n",
       "      <th>1</th>\n",
       "      <td>0</td>\n",
       "      <td>22.0</td>\n",
       "      <td>7.2500</td>\n",
       "      <td>1</td>\n",
       "      <td>0</td>\n",
       "      <td>23</td>\n",
       "      <td>0.0</td>\n",
       "      <td>1.0</td>\n",
       "      <td>1.0</td>\n",
       "      <td>0.0</td>\n",
       "      <td>...</td>\n",
       "      <td>0.0</td>\n",
       "      <td>0.0</td>\n",
       "      <td>0.0</td>\n",
       "      <td>1.0</td>\n",
       "      <td>0.0</td>\n",
       "      <td>1.0</td>\n",
       "      <td>0.0</td>\n",
       "      <td>0.0</td>\n",
       "      <td>0.0</td>\n",
       "      <td>0.0</td>\n",
       "    </tr>\n",
       "    <tr>\n",
       "      <th>2</th>\n",
       "      <td>1</td>\n",
       "      <td>38.0</td>\n",
       "      <td>71.2833</td>\n",
       "      <td>1</td>\n",
       "      <td>0</td>\n",
       "      <td>51</td>\n",
       "      <td>0.0</td>\n",
       "      <td>0.0</td>\n",
       "      <td>0.0</td>\n",
       "      <td>0.0</td>\n",
       "      <td>...</td>\n",
       "      <td>0.0</td>\n",
       "      <td>0.0</td>\n",
       "      <td>0.0</td>\n",
       "      <td>0.0</td>\n",
       "      <td>0.0</td>\n",
       "      <td>0.0</td>\n",
       "      <td>1.0</td>\n",
       "      <td>0.0</td>\n",
       "      <td>0.0</td>\n",
       "      <td>0.0</td>\n",
       "    </tr>\n",
       "    <tr>\n",
       "      <th>3</th>\n",
       "      <td>1</td>\n",
       "      <td>26.0</td>\n",
       "      <td>7.9250</td>\n",
       "      <td>0</td>\n",
       "      <td>1</td>\n",
       "      <td>22</td>\n",
       "      <td>0.0</td>\n",
       "      <td>1.0</td>\n",
       "      <td>0.0</td>\n",
       "      <td>0.0</td>\n",
       "      <td>...</td>\n",
       "      <td>0.0</td>\n",
       "      <td>0.0</td>\n",
       "      <td>0.0</td>\n",
       "      <td>1.0</td>\n",
       "      <td>0.0</td>\n",
       "      <td>0.0</td>\n",
       "      <td>0.0</td>\n",
       "      <td>0.0</td>\n",
       "      <td>1.0</td>\n",
       "      <td>0.0</td>\n",
       "    </tr>\n",
       "    <tr>\n",
       "      <th>4</th>\n",
       "      <td>1</td>\n",
       "      <td>35.0</td>\n",
       "      <td>53.1000</td>\n",
       "      <td>1</td>\n",
       "      <td>0</td>\n",
       "      <td>44</td>\n",
       "      <td>0.0</td>\n",
       "      <td>0.0</td>\n",
       "      <td>0.0</td>\n",
       "      <td>0.0</td>\n",
       "      <td>...</td>\n",
       "      <td>0.0</td>\n",
       "      <td>0.0</td>\n",
       "      <td>0.0</td>\n",
       "      <td>0.0</td>\n",
       "      <td>0.0</td>\n",
       "      <td>0.0</td>\n",
       "      <td>1.0</td>\n",
       "      <td>0.0</td>\n",
       "      <td>0.0</td>\n",
       "      <td>0.0</td>\n",
       "    </tr>\n",
       "    <tr>\n",
       "      <th>5</th>\n",
       "      <td>0</td>\n",
       "      <td>35.0</td>\n",
       "      <td>8.0500</td>\n",
       "      <td>0</td>\n",
       "      <td>1</td>\n",
       "      <td>24</td>\n",
       "      <td>0.0</td>\n",
       "      <td>1.0</td>\n",
       "      <td>1.0</td>\n",
       "      <td>0.0</td>\n",
       "      <td>...</td>\n",
       "      <td>0.0</td>\n",
       "      <td>0.0</td>\n",
       "      <td>0.0</td>\n",
       "      <td>1.0</td>\n",
       "      <td>0.0</td>\n",
       "      <td>1.0</td>\n",
       "      <td>0.0</td>\n",
       "      <td>0.0</td>\n",
       "      <td>0.0</td>\n",
       "      <td>0.0</td>\n",
       "    </tr>\n",
       "  </tbody>\n",
       "</table>\n",
       "<p>5 rows × 26 columns</p>\n",
       "</div>"
      ],
      "text/plain": [
       "             Survived   Age     Fare  Family  Alone  name_length  x0_2  x0_3  \\\n",
       "PassengerId                                                                    \n",
       "1                   0  22.0   7.2500       1      0           23   0.0   1.0   \n",
       "2                   1  38.0  71.2833       1      0           51   0.0   0.0   \n",
       "3                   1  26.0   7.9250       0      1           22   0.0   1.0   \n",
       "4                   1  35.0  53.1000       1      0           44   0.0   0.0   \n",
       "5                   0  35.0   8.0500       0      1           24   0.0   1.0   \n",
       "\n",
       "             x1_male  x2_Q  ...  x4_F  x4_G  x4_T  x4_n  x5_Male Noble  \\\n",
       "PassengerId                 ...                                          \n",
       "1                1.0   0.0  ...   0.0   0.0   0.0   1.0            0.0   \n",
       "2                0.0   0.0  ...   0.0   0.0   0.0   0.0            0.0   \n",
       "3                0.0   0.0  ...   0.0   0.0   0.0   1.0            0.0   \n",
       "4                0.0   0.0  ...   0.0   0.0   0.0   0.0            0.0   \n",
       "5                1.0   0.0  ...   0.0   0.0   0.0   1.0            0.0   \n",
       "\n",
       "             x5_Man  x5_Married Woman  x5_Occupation  x5_Unmarried Woman  \\\n",
       "PassengerId                                                                \n",
       "1               1.0               0.0            0.0                 0.0   \n",
       "2               0.0               1.0            0.0                 0.0   \n",
       "3               0.0               0.0            0.0                 1.0   \n",
       "4               0.0               1.0            0.0                 0.0   \n",
       "5               1.0               0.0            0.0                 0.0   \n",
       "\n",
       "             x5_Young Boy  \n",
       "PassengerId                \n",
       "1                     0.0  \n",
       "2                     0.0  \n",
       "3                     0.0  \n",
       "4                     0.0  \n",
       "5                     0.0  \n",
       "\n",
       "[5 rows x 26 columns]"
      ]
     },
     "execution_count": 40,
     "metadata": {},
     "output_type": "execute_result"
    }
   ],
   "source": [
    "#Prewritten Onehotencoding Function to save time.   \n",
    "def onehot(dataframe, columns):\n",
    "    from sklearn.preprocessing import OneHotEncoder\n",
    "    onehotdf = dataframe[columns]\n",
    "    encoder = OneHotEncoder(drop='first',sparse=False)\n",
    "    encoded = encoder.fit_transform(onehotdf)\n",
    "    encdf = pd.DataFrame(encoded, columns=encoder.get_feature_names())\n",
    "    df = pd.concat([dataframe.reset_index(), encdf], axis=1).drop(columns=columns, axis=1)\n",
    "    return df\n",
    "\n",
    "traindf = onehot(train, hotlist)\n",
    "traindf.set_index('PassengerId', inplace=True)\n",
    "traindf.head()"
   ]
  },
  {
   "cell_type": "markdown",
   "metadata": {},
   "source": [
    "Now we standardize our data. "
   ]
  },
  {
   "cell_type": "code",
   "execution_count": 41,
   "metadata": {},
   "outputs": [],
   "source": [
    "from sklearn.preprocessing import StandardScaler\n",
    "scaler = StandardScaler()\n",
    "traindf_scaled = traindf.copy()\n",
    "traindf_scaled[['Age', 'Fare', 'name_length', 'Family']] = scaler.fit_transform(\n",
    "    traindf[['Age', 'Fare', 'name_length', 'Family']])\n"
   ]
  },
  {
   "cell_type": "code",
   "execution_count": 42,
   "metadata": {},
   "outputs": [],
   "source": [
    "#Separating our data into independent and dependent variables. \n",
    "X_train = traindf_scaled.drop(columns='Survived')\n",
    "y_train = traindf_scaled['Survived']"
   ]
  },
  {
   "cell_type": "markdown",
   "metadata": {},
   "source": [
    "## Testing Classifiers and Feature Importances. "
   ]
  },
  {
   "cell_type": "code",
   "execution_count": 43,
   "metadata": {},
   "outputs": [],
   "source": [
    "from sklearn.linear_model import LogisticRegression\n",
    "from lightgbm import LGBMClassifier\n",
    "from sklearn.neighbors import KNeighborsClassifier\n",
    "from sklearn.ensemble import RandomForestClassifier\n",
    "from sklearn.svm import SVC\n",
    "from sklearn.model_selection import cross_val_score"
   ]
  },
  {
   "cell_type": "markdown",
   "metadata": {},
   "source": [
    "I am going to experiment with a range of different classifiers. After all, this is the really fun part of Machine Learning. Lets relish it. I'm also going to look at how the models vary in terms of feature importances. "
   ]
  },
  {
   "cell_type": "markdown",
   "metadata": {},
   "source": [
    "### Logistic Regression "
   ]
  },
  {
   "cell_type": "markdown",
   "metadata": {},
   "source": [
    "Cross-Validation is usually a great way to go as it helps prevent overfitting. I typically just do 5 folds.  "
   ]
  },
  {
   "cell_type": "code",
   "execution_count": 44,
   "metadata": {},
   "outputs": [
    {
     "name": "stdout",
     "output_type": "stream",
     "text": [
      "[0.83240223 0.81460674 0.80898876 0.8258427  0.85955056]\n",
      "0.8282781997363632\n"
     ]
    }
   ],
   "source": [
    "#Logistic Regression is a classic. Let's give it a go. \n",
    "lr = LogisticRegression()\n",
    "cv = cross_val_score(lr, X_train, y_train, cv=5)\n",
    "print(cv)\n",
    "print(cv.mean())"
   ]
  },
  {
   "cell_type": "code",
   "execution_count": 45,
   "metadata": {},
   "outputs": [
    {
     "data": {
      "text/plain": [
       "Text(0.5, 0, 'Relative Feature Importance')"
      ]
     },
     "execution_count": 45,
     "metadata": {},
     "output_type": "execute_result"
    },
    {
     "data": {
      "image/png": "[encoded data removed]",
      "text/plain": [
       "<Figure size 576x432 with 1 Axes>"
      ]
     },
     "metadata": {},
     "output_type": "display_data"
    }
   ],
   "source": [
    "lr = LogisticRegression()\n",
    "lr.fit(X_train, y_train)\n",
    "\n",
    "feature_importance = abs(lr.coef_[0])\n",
    "feature_importance = 100.0 * (feature_importance / feature_importance.max())\n",
    "sorted_idx = np.argsort(feature_importance)\n",
    "pos = np.arange(sorted_idx.shape[0]) + .5\n",
    "\n",
    "featfig = plt.figure()\n",
    "featax = featfig.add_subplot(1, 1, 1)\n",
    "featax.barh(pos, feature_importance[sorted_idx], align='center')\n",
    "featax.set_yticks(pos)\n",
    "featax.set_yticklabels(np.array(X_train.columns)[sorted_idx], fontsize=8)\n",
    "featax.set_xlabel('Relative Feature Importance')"
   ]
  },
  {
   "cell_type": "markdown",
   "metadata": {},
   "source": [
    "### Gradient Boosting"
   ]
  },
  {
   "cell_type": "code",
   "execution_count": 46,
   "metadata": {},
   "outputs": [
    {
     "name": "stdout",
     "output_type": "stream",
     "text": [
      "[0.82681564 0.82022472 0.84269663 0.81460674 0.83707865]\n",
      "0.8282844768062269\n"
     ]
    }
   ],
   "source": [
    "#Gradient Boosting next. I'm a huge fan of LightGBM due to its speed. \n",
    "gb = LGBMClassifier()\n",
    "cv = cross_val_score(gb, X_train, y_train, cv=5)\n",
    "print(cv)\n",
    "print(cv.mean())"
   ]
  },
  {
   "cell_type": "code",
   "execution_count": 47,
   "metadata": {},
   "outputs": [
    {
     "data": {
      "image/png": "[encoded data removed]",
      "text/plain": [
       "<Figure size 936x504 with 1 Axes>"
      ]
     },
     "metadata": {},
     "output_type": "display_data"
    }
   ],
   "source": [
    "gb = LGBMClassifier()\n",
    "gb.fit(X_train, y_train)\n",
    "\n",
    "feature_importances = pd.DataFrame(gb.feature_importances_,\n",
    "                                   index = X_train.columns,\n",
    "                                    columns=['importance']).sort_values('importance', ascending=False)\n",
    "feature_importances = feature_importances.reset_index()\n",
    "\n",
    "sns.set(style=\"whitegrid\")\n",
    "\n",
    "# Initialize the matplotlib figure\n",
    "f, ax = plt.subplots(figsize=(13, 7))\n",
    "\n",
    "# Plot the Feature Importance\n",
    "sns.set_color_codes(\"pastel\")\n",
    "sns.barplot(x=\"importance\", y='index', data=feature_importances.head(20),\n",
    "            label=\"Total\", color=\"b\")\n",
    "plt.show()"
   ]
  },
  {
   "cell_type": "markdown",
   "metadata": {},
   "source": [
    "### Support Vector Classification "
   ]
  },
  {
   "cell_type": "code",
   "execution_count": 48,
   "metadata": {},
   "outputs": [
    {
     "name": "stdout",
     "output_type": "stream",
     "text": [
      "[0.84357542 0.8258427  0.81460674 0.79775281 0.87640449]\n",
      "0.8316364321134895\n"
     ]
    }
   ],
   "source": [
    "#I'm not as familiar with C-Support Vector Classification but I hear good things. Let's give it a go. \n",
    "svc = SVC()\n",
    "cv = cross_val_score(svc,X_train,y_train,cv=5)\n",
    "print(cv)\n",
    "print(cv.mean())"
   ]
  },
  {
   "cell_type": "code",
   "execution_count": 49,
   "metadata": {},
   "outputs": [
    {
     "data": {
      "text/plain": [
       "Text(0.5, 0, 'Relative Feature Importance')"
      ]
     },
     "execution_count": 49,
     "metadata": {},
     "output_type": "execute_result"
    },
    {
     "data": {
      "image/png": "[encoded data removed]",
      "text/plain": [
       "<Figure size 576x432 with 1 Axes>"
      ]
     },
     "metadata": {},
     "output_type": "display_data"
    }
   ],
   "source": [
    "#Note: I can only do feature importances with Support Vector Classifier using a linear kernel. Our SVC model above is technically using a \n",
    "#radial basis function kernel. Keep that in mind. \n",
    "svc = SVC(kernel='linear')\n",
    "svc.fit(X_train, y_train)\n",
    "\n",
    "feature_importance = abs(svc.coef_[0])\n",
    "feature_importance = 100.0 * (feature_importance / feature_importance.max())\n",
    "sorted_idx = np.argsort(feature_importance)\n",
    "pos = np.arange(sorted_idx.shape[0]) + .5\n",
    "\n",
    "featfig = plt.figure()\n",
    "featax = featfig.add_subplot(1, 1, 1)\n",
    "featax.barh(pos, feature_importance[sorted_idx], align='center')\n",
    "featax.set_yticks(pos)\n",
    "featax.set_yticklabels(np.array(X_train.columns)[sorted_idx], fontsize=8)\n",
    "featax.set_xlabel('Relative Feature Importance')"
   ]
  },
  {
   "cell_type": "markdown",
   "metadata": {},
   "source": [
    "### Analysis"
   ]
  },
  {
   "cell_type": "markdown",
   "metadata": {},
   "source": [
    "The two linear models both had similar importances with Gradient Boosting have MUCH different importances. <br>\n",
    "\n",
    "Linears:<br>\n",
    "-Gender played a big role, along with family.<br>\n",
    "-Having a ticket that started with E figured in as well. <br>\n",
    "-Having an Occupation title also figured in. <br>\n",
    "\n",
    "Gradient Boosting:<br>\n",
    "-Fare, Age, and Name length. Couldn't be more different from the linears. \n",
    "\n",
    "In terms of overall performance, SVC won out overall but it wasn't exactly a dominating performance."
   ]
  },
  {
   "cell_type": "markdown",
   "metadata": {},
   "source": [
    "## Hyperparameter Optimization"
   ]
  },
  {
   "cell_type": "markdown",
   "metadata": {},
   "source": [
    "I am going to do more optimization than might be necessary as I want to get some practice in. "
   ]
  },
  {
   "cell_type": "code",
   "execution_count": 50,
   "metadata": {},
   "outputs": [],
   "source": [
    "from sklearn.model_selection import GridSearchCV\n",
    "from sklearn.model_selection import RandomizedSearchCV "
   ]
  },
  {
   "cell_type": "code",
   "execution_count": 51,
   "metadata": {},
   "outputs": [],
   "source": [
    "#Function for finding your best scores and hyperarameters after optimizing. \n",
    "def clf_performance(classifier, model_name):\n",
    "    print(model_name)\n",
    "    print('Best Score: ' + str(classifier.best_score_))\n",
    "    print('Best Parameters: ' + str(classifier.best_params_))"
   ]
  },
  {
   "cell_type": "code",
   "execution_count": 52,
   "metadata": {},
   "outputs": [
    {
     "name": "stdout",
     "output_type": "stream",
     "text": [
      "Fitting 5 folds for each of 40 candidates, totalling 200 fits\n"
     ]
    },
    {
     "name": "stderr",
     "output_type": "stream",
     "text": [
      "[Parallel(n_jobs=-1)]: Using backend LokyBackend with 8 concurrent workers.\n",
      "[Parallel(n_jobs=-1)]: Done  34 tasks      | elapsed:    1.7s\n"
     ]
    },
    {
     "name": "stdout",
     "output_type": "stream",
     "text": [
      "Logistic Regression\n",
      "Best Score: 0.8305191136777351\n",
      "Best Parameters: {'C': 0.615848211066026, 'max_iter': 2000, 'penalty': 'l1', 'solver': 'liblinear'}\n"
     ]
    },
    {
     "name": "stderr",
     "output_type": "stream",
     "text": [
      "[Parallel(n_jobs=-1)]: Done 200 out of 200 | elapsed:    2.5s finished\n"
     ]
    }
   ],
   "source": [
    "lr = LogisticRegression()\n",
    "#define the parameters for the optimization\n",
    "param_grid = {'max_iter' : [2000],\n",
    "              'penalty' : ['l1', 'l2'],\n",
    "              'C' : np.logspace(-4, 4, 20),\n",
    "              'solver' : ['liblinear']}\n",
    "\n",
    "#GridSearch is best if you have the time/computational power.  \n",
    "clf_lr = GridSearchCV(lr, param_grid = param_grid, cv = 5, verbose = True, n_jobs = -1)\n",
    "best_clf_lr = clf_lr.fit(X_train,y_train)\n",
    "clf_performance(best_clf_lr,'Logistic Regression')"
   ]
  },
  {
   "cell_type": "code",
   "execution_count": 53,
   "metadata": {},
   "outputs": [
    {
     "name": "stderr",
     "output_type": "stream",
     "text": [
      "[Parallel(n_jobs=-1)]: Using backend LokyBackend with 8 concurrent workers.\n"
     ]
    },
    {
     "name": "stdout",
     "output_type": "stream",
     "text": [
      "Fitting 5 folds for each of 55 candidates, totalling 275 fits\n"
     ]
    },
    {
     "name": "stderr",
     "output_type": "stream",
     "text": [
      "[Parallel(n_jobs=-1)]: Done  56 tasks      | elapsed:    0.3s\n"
     ]
    },
    {
     "name": "stdout",
     "output_type": "stream",
     "text": [
      "SVC\n",
      "Best Score: 0.8338899001945892\n",
      "Best Parameters: {'C': 1, 'degree': 2, 'kernel': 'poly'}\n"
     ]
    },
    {
     "name": "stderr",
     "output_type": "stream",
     "text": [
      "[Parallel(n_jobs=-1)]: Done 275 out of 275 | elapsed:   21.5s finished\n"
     ]
    }
   ],
   "source": [
    "svc = SVC()\n",
    "param_grid = tuned_parameters = [{'kernel': ['rbf'], 'gamma': [.1,.5,1,2,5,10],\n",
    "                                  'C': [.1, 1, 10, 100, 1000]},\n",
    "                                 {'kernel': ['linear'], 'C': [.1, 1, 10, 100, 1000]},\n",
    "                                 {'kernel': ['poly'], 'degree' : [2,3,4,5], 'C': [.1, 1, 10, 100, 1000]}]\n",
    "clf_svc = GridSearchCV(svc, param_grid = param_grid, cv = 5, verbose = True, n_jobs = -1)\n",
    "best_clf_svc = clf_svc.fit(X_train,y_train)\n",
    "clf_performance(best_clf_svc,'SVC')"
   ]
  },
  {
   "cell_type": "code",
   "execution_count": 54,
   "metadata": {},
   "outputs": [
    {
     "name": "stderr",
     "output_type": "stream",
     "text": [
      "[Parallel(n_jobs=-1)]: Using backend LokyBackend with 8 concurrent workers.\n"
     ]
    },
    {
     "name": "stdout",
     "output_type": "stream",
     "text": [
      "Fitting 5 folds for each of 4000 candidates, totalling 20000 fits\n"
     ]
    },
    {
     "name": "stderr",
     "output_type": "stream",
     "text": [
      "[Parallel(n_jobs=-1)]: Done  56 tasks      | elapsed:    0.6s\n",
      "[Parallel(n_jobs=-1)]: Done 656 tasks      | elapsed:    5.4s\n",
      "[Parallel(n_jobs=-1)]: Done 1656 tasks      | elapsed:   13.1s\n",
      "[Parallel(n_jobs=-1)]: Done 3056 tasks      | elapsed:   23.8s\n",
      "[Parallel(n_jobs=-1)]: Done 4856 tasks      | elapsed:   37.3s\n",
      "[Parallel(n_jobs=-1)]: Done 7056 tasks      | elapsed:   53.4s\n",
      "[Parallel(n_jobs=-1)]: Done 9656 tasks      | elapsed:  1.2min\n",
      "[Parallel(n_jobs=-1)]: Done 12656 tasks      | elapsed:  1.6min\n",
      "[Parallel(n_jobs=-1)]: Done 16056 tasks      | elapsed:  2.0min\n",
      "[Parallel(n_jobs=-1)]: Done 19856 tasks      | elapsed:  2.5min\n",
      "[Parallel(n_jobs=-1)]: Done 19985 out of 20000 | elapsed:  2.5min remaining:    0.0s\n",
      "[Parallel(n_jobs=-1)]: Done 20000 out of 20000 | elapsed:  2.5min finished\n"
     ]
    },
    {
     "name": "stdout",
     "output_type": "stream",
     "text": [
      "GB\n",
      "Best Score: 0.8462368966166594\n",
      "Best Parameters: {'subsample': 0.9, 'num_leaves': 78, 'max_depth': 14, 'learning_rate': 0.05, 'feature_fraction': 0.4}\n"
     ]
    }
   ],
   "source": [
    "gb = LGBMClassifier()\n",
    "\n",
    "param_grid = {\n",
    "    'learning_rate': np.arange(.01, 0.5, .01),\n",
    "    'max_depth' : np.arange(1, 30, 1),\n",
    "    'num_leaves' : np.arange(10, 200, 1),\n",
    "    'feature_fraction' : np.arange(.1,1,.1),\n",
    "    'subsample': np.arange(.1, 1,.1)\n",
    "}\n",
    "clf_gb = RandomizedSearchCV(gb, param_distributions = param_grid, cv = 5, verbose = True, n_jobs = -1, n_iter=4000)\n",
    "best_clf_gb = clf_gb.fit(X_train,y_train)\n",
    "clf_performance(best_clf_gb,'GB')"
   ]
  },
  {
   "cell_type": "code",
   "execution_count": 55,
   "metadata": {},
   "outputs": [],
   "source": [
    "#initialize new classifiers with best parameters\n",
    "gb = LGBMClassifier(subsample=0.9, num_leaves=74, max_depth=5, learning_rate=0.09, feature_fraction=0.2)\n",
    "svc = SVC(C=1, degree= 2, kernel= 'poly')\n",
    "lr = LogisticRegression(C=0.615848211066026, max_iter=2000, penalty='l1', solver='liblinear')"
   ]
  },
  {
   "cell_type": "markdown",
   "metadata": {},
   "source": [
    "# Stacking "
   ]
  },
  {
   "cell_type": "markdown",
   "metadata": {},
   "source": [
    "I've never experimented with Model Stacking before so I'm going to give it a shot here. "
   ]
  },
  {
   "cell_type": "code",
   "execution_count": 56,
   "metadata": {},
   "outputs": [
    {
     "name": "stdout",
     "output_type": "stream",
     "text": [
      "[0.8547486  0.83146067 0.80898876 0.83146067 0.85955056]\n",
      "0.8372418555018518\n"
     ]
    }
   ],
   "source": [
    "#stack our 3 classifiers together with the meta classifier being our gradient boosting algorithm since it was the best performer. \n",
    "from mlxtend.classifier import StackingCVClassifier\n",
    "stack = StackingCVClassifier(classifiers = (gb, svc, lr),\n",
    "                                        meta_classifier = gb,\n",
    "                                        use_features_in_secondary = True)\n",
    "cv = cross_val_score(stack, X_train,y_train,cv=5)\n",
    "print(cv)\n",
    "print(cv.mean())"
   ]
  },
  {
   "cell_type": "code",
   "execution_count": 57,
   "metadata": {},
   "outputs": [
    {
     "data": {
      "text/plain": [
       "StackingCVClassifier(classifiers=(LGBMClassifier(boosting_type='gbdt',\n",
       "                                                 class_weight=None,\n",
       "                                                 colsample_bytree=1.0,\n",
       "                                                 feature_fraction=0.2,\n",
       "                                                 importance_type='split',\n",
       "                                                 learning_rate=0.09,\n",
       "                                                 max_depth=5,\n",
       "                                                 min_child_samples=20,\n",
       "                                                 min_child_weight=0.001,\n",
       "                                                 min_split_gain=0.0,\n",
       "                                                 n_estimators=100, n_jobs=-1,\n",
       "                                                 num_leaves=74, objective=None,\n",
       "                                                 random_state=None,\n",
       "                                                 reg_alpha=0.0, reg_lambda=0.0...\n",
       "                                                    n_estimators=100, n_jobs=-1,\n",
       "                                                    num_leaves=74,\n",
       "                                                    objective=None,\n",
       "                                                    random_state=None,\n",
       "                                                    reg_alpha=0.0,\n",
       "                                                    reg_lambda=0.0, silent=True,\n",
       "                                                    subsample=0.9,\n",
       "                                                    subsample_for_bin=200000,\n",
       "                                                    subsample_freq=0),\n",
       "                     n_jobs=None, pre_dispatch='2*n_jobs', random_state=None,\n",
       "                     shuffle=True, store_train_meta_features=False,\n",
       "                     stratify=True, use_clones=True,\n",
       "                     use_features_in_secondary=True, use_probas=False,\n",
       "                     verbose=0)"
      ]
     },
     "execution_count": 57,
     "metadata": {},
     "output_type": "execute_result"
    }
   ],
   "source": [
    "stack = StackingCVClassifier(classifiers = (gb, svc, lr),\n",
    "                                        meta_classifier = gb,\n",
    "                                        use_features_in_secondary = True)\n",
    "stack.fit(X_train, y_train)"
   ]
  },
  {
   "cell_type": "markdown",
   "metadata": {},
   "source": [
    "# Creating Predictions"
   ]
  },
  {
   "cell_type": "markdown",
   "metadata": {},
   "source": [
    "Now the time has come to create my predictions for the contest. "
   ]
  },
  {
   "cell_type": "code",
   "execution_count": 58,
   "metadata": {},
   "outputs": [],
   "source": [
    "#import testing data\n",
    "test = pd.read_csv('datasets/test.csv', index_col='PassengerId')"
   ]
  },
  {
   "cell_type": "code",
   "execution_count": 59,
   "metadata": {},
   "outputs": [
    {
     "data": {
      "text/plain": [
       "Pclass        0\n",
       "Name          0\n",
       "Sex           0\n",
       "Age          86\n",
       "SibSp         0\n",
       "Parch         0\n",
       "Ticket        0\n",
       "Fare          1\n",
       "Cabin       327\n",
       "Embarked      0\n",
       "dtype: int64"
      ]
     },
     "execution_count": 59,
     "metadata": {},
     "output_type": "execute_result"
    }
   ],
   "source": [
    "#Look at missing values \n",
    "test.isna().sum()"
   ]
  },
  {
   "cell_type": "markdown",
   "metadata": {},
   "source": [
    "Similar missing values as our training set. That's good it will save time. <br>\n",
    "\n",
    "I should have done this during my training step but I'm going to do all my data cleaning/feature engineering in the next cell. "
   ]
  },
  {
   "cell_type": "code",
   "execution_count": 60,
   "metadata": {},
   "outputs": [],
   "source": [
    "#Transformations ahoy\n",
    "test['Family'] = test['SibSp'] + test['Parch']\n",
    "test['Alone'] = test['Family'].apply(lambda x: x > 0)\n",
    "test['name_length'] = test.Name.apply(lambda x: len(x))\n",
    "test['title'] = test.Name.apply(lambda x: x.split(',')[1].split('.')[0].strip())\n",
    "test['title_group'] = test['title'].apply(title_group)\n",
    "test['numeric_ticket'] = test.Ticket.apply(lambda x: 1 if x.isnumeric() else 0)\n",
    "test['cabin_group'] = test.Cabin.apply(lambda x: str(x)[0])\n",
    "test['Age'] = median_impute.fit_transform(test[['Age']])\n",
    "test['Fare'] = median_impute.fit_transform(test[['Fare']])\n",
    "test['Embarked'] = mode_impute.fit_transform(test[['Embarked']])\n",
    "test.drop(columns=['Cabin', 'Name', 'Ticket', 'title', 'SibSp', 'Parch'], inplace=True)\n",
    "testdf = onehot(test, hotlist)\n",
    "testdf.set_index('PassengerId', inplace=True)\n",
    "testdf_scaled = testdf.copy()\n",
    "testdf_scaled[['Age','Fare', 'name_length', 'Family']] = scaler.fit_transform(\n",
    "    testdf_scaled[['Age','Fare', 'name_length', 'Family']])"
   ]
  },
  {
   "cell_type": "code",
   "execution_count": 61,
   "metadata": {},
   "outputs": [],
   "source": [
    "#I have to add in the x5_Male Noble and x4_T columns and then change the order of the columns so my training and testing dataframes will match up. \n",
    "testdf_scaled['x5_Male Noble'] = 0\n",
    "testdf_scaled['x4_T'] = 0\n",
    "model_order = ['Age','Fare', 'Family','Alone','name_length', 'x0_2',\n",
    "       'x0_3', 'x1_male', 'x2_Q', 'x2_S', 'x3_1', 'x4_B', 'x4_C', 'x4_D',\n",
    "       'x4_E', 'x4_F', 'x4_G', 'x4_T', 'x4_n', 'x5_Male Noble', 'x5_Man',\n",
    "       'x5_Married Woman', 'x5_Occupation', 'x5_Unmarried Woman',\n",
    "       'x5_Young Boy']\n",
    "testdf_scaled = testdf_scaled[model_order]"
   ]
  },
  {
   "cell_type": "code",
   "execution_count": 62,
   "metadata": {},
   "outputs": [
    {
     "data": {
      "text/html": [
       "<div>\n",
       "<style scoped>\n",
       "    .dataframe tbody tr th:only-of-type {\n",
       "        vertical-align: middle;\n",
       "    }\n",
       "\n",
       "    .dataframe tbody tr th {\n",
       "        vertical-align: top;\n",
       "    }\n",
       "\n",
       "    .dataframe thead th {\n",
       "        text-align: right;\n",
       "    }\n",
       "</style>\n",
       "<table border=\"1\" class=\"dataframe\">\n",
       "  <thead>\n",
       "    <tr style=\"text-align: right;\">\n",
       "      <th></th>\n",
       "      <th>Survived</th>\n",
       "    </tr>\n",
       "    <tr>\n",
       "      <th>PassengerId</th>\n",
       "      <th></th>\n",
       "    </tr>\n",
       "  </thead>\n",
       "  <tbody>\n",
       "    <tr>\n",
       "      <th>892</th>\n",
       "      <td>0</td>\n",
       "    </tr>\n",
       "    <tr>\n",
       "      <th>893</th>\n",
       "      <td>0</td>\n",
       "    </tr>\n",
       "    <tr>\n",
       "      <th>894</th>\n",
       "      <td>0</td>\n",
       "    </tr>\n",
       "    <tr>\n",
       "      <th>895</th>\n",
       "      <td>0</td>\n",
       "    </tr>\n",
       "    <tr>\n",
       "      <th>896</th>\n",
       "      <td>1</td>\n",
       "    </tr>\n",
       "  </tbody>\n",
       "</table>\n",
       "</div>"
      ],
      "text/plain": [
       "             Survived\n",
       "PassengerId          \n",
       "892                 0\n",
       "893                 0\n",
       "894                 0\n",
       "895                 0\n",
       "896                 1"
      ]
     },
     "execution_count": 62,
     "metadata": {},
     "output_type": "execute_result"
    }
   ],
   "source": [
    "predictions = stack.predict(testdf_scaled)\n",
    "predictdf = pd.DataFrame(predictions)\n",
    "predictdf.set_index(testdf.index, inplace=True)\n",
    "predictdf.head()\n",
    "predictdf.rename(columns = {0:'Survived'}, inplace=True)\n",
    "predictdf.head()"
   ]
  },
  {
   "cell_type": "code",
   "execution_count": 63,
   "metadata": {},
   "outputs": [],
   "source": [
    "predictdf.to_csv('datasets/titanic_prediction.csv')"
   ]
  },
  {
   "cell_type": "markdown",
   "metadata": {},
   "source": [
    "# Final Thoughts"
   ]
  },
  {
   "cell_type": "markdown",
   "metadata": {},
   "source": [
    "I ended up with a 78% accuracy rating on the test set which I'm happy with. Any further increases in score would have to come from quite a bit more feature engineering. I think this would take more time than I want to continue to spend on this problem. I am glad I worked on it though as it's so ubiquitous in the Machine Learning world that I didn't truly feel like a Data Science until I completed it. "
   ]
  }
 ],
 "metadata": {
  "kernelspec": {
   "display_name": "Python 3",
   "language": "python",
   "name": "python3"
  },
  "language_info": {
   "codemirror_mode": {
    "name": "ipython",
    "version": 3
   },
   "file_extension": ".py",
   "mimetype": "text/x-python",
   "name": "python",
   "nbconvert_exporter": "python",
   "pygments_lexer": "ipython3",
   "version": "3.7.6"
  }
 },
 "nbformat": 4,
 "nbformat_minor": 4
}
